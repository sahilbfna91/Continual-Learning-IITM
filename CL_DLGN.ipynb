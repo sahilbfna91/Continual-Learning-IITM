{
  "nbformat": 4,
  "nbformat_minor": 0,
  "metadata": {
    "colab": {
      "provenance": []
    },
    "kernelspec": {
      "name": "python3",
      "display_name": "Python 3"
    },
    "language_info": {
      "name": "python"
    },
    "accelerator": "GPU",
    "gpuClass": "standard"
  },
  "cells": [
    {
      "cell_type": "code",
      "execution_count": null,
      "metadata": {
        "colab": {
          "base_uri": "https://localhost:8080/"
        },
        "id": "cZVu0MXUJgO6",
        "outputId": "f5747b9c-577e-4465-8137-a8cfdfcc7421"
      },
      "outputs": [
        {
          "output_type": "stream",
          "name": "stdout",
          "text": [
            "CUDA is available!  Training on GPU ...\n"
          ]
        }
      ],
      "source": [
        "import torch\n",
        "import torchvision\n",
        "import numpy as np\n",
        "import torchvision.transforms as transforms\n",
        "import torch.nn as nn\n",
        "import torch.nn.functional as F\n",
        "from torchvision.datasets import CIFAR10\n",
        "from torchvision.transforms import ToTensor\n",
        "from torchvision.utils import make_grid\n",
        "from torch.utils.data.dataloader import DataLoader\n",
        "from torch.utils.data import random_split\n",
        "\n",
        "train_on_gpu = torch.cuda.is_available()\n",
        "\n",
        "if not train_on_gpu:\n",
        "    print('CUDA is not available.  Training on CPU ...')\n",
        "else:\n",
        "    print('CUDA is available!  Training on GPU ...')"
      ]
    },
    {
      "cell_type": "code",
      "source": [
        "!pip3 install deeplake"
      ],
      "metadata": {
        "colab": {
          "base_uri": "https://localhost:8080/"
        },
        "id": "vKTltmwIJdsk",
        "outputId": "f8a421c9-060b-43f0-f2bb-55bcc1675684"
      },
      "execution_count": null,
      "outputs": [
        {
          "output_type": "stream",
          "name": "stdout",
          "text": [
            "Looking in indexes: https://pypi.org/simple, https://us-python.pkg.dev/colab-wheels/public/simple/\n",
            "Collecting deeplake\n",
            "  Downloading deeplake-3.2.22.tar.gz (457 kB)\n",
            "\u001b[2K     \u001b[90m━━━━━━━━━━━━━━━━━━━━━━━━━━━━━━━━━━━━━━\u001b[0m \u001b[32m457.4/457.4 kB\u001b[0m \u001b[31m33.1 MB/s\u001b[0m eta \u001b[36m0:00:00\u001b[0m\n",
            "\u001b[?25h  Preparing metadata (setup.py) ... \u001b[?25l\u001b[?25hdone\n",
            "Requirement already satisfied: numpy in /usr/local/lib/python3.9/dist-packages (from deeplake) (1.22.4)\n",
            "Requirement already satisfied: pillow in /usr/local/lib/python3.9/dist-packages (from deeplake) (8.4.0)\n",
            "Collecting boto3\n",
            "  Downloading boto3-1.26.114-py3-none-any.whl (135 kB)\n",
            "\u001b[2K     \u001b[90m━━━━━━━━━━━━━━━━━━━━━━━━━━━━━━━━━━━━━━\u001b[0m \u001b[32m135.6/135.6 kB\u001b[0m \u001b[31m21.1 MB/s\u001b[0m eta \u001b[36m0:00:00\u001b[0m\n",
            "\u001b[?25hRequirement already satisfied: click in /usr/local/lib/python3.9/dist-packages (from deeplake) (8.1.3)\n",
            "Collecting pathos\n",
            "  Downloading pathos-0.3.0-py3-none-any.whl (79 kB)\n",
            "\u001b[2K     \u001b[90m━━━━━━━━━━━━━━━━━━━━━━━━━━━━━━━━━━━━━━━━\u001b[0m \u001b[32m79.8/79.8 kB\u001b[0m \u001b[31m9.5 MB/s\u001b[0m eta \u001b[36m0:00:00\u001b[0m\n",
            "\u001b[?25hCollecting humbug>=0.3.1\n",
            "  Downloading humbug-0.3.1-py3-none-any.whl (15 kB)\n",
            "Requirement already satisfied: tqdm in /usr/local/lib/python3.9/dist-packages (from deeplake) (4.65.0)\n",
            "Collecting numcodecs\n",
            "  Downloading numcodecs-0.11.0-cp39-cp39-manylinux_2_17_x86_64.manylinux2014_x86_64.whl (6.7 MB)\n",
            "\u001b[2K     \u001b[90m━━━━━━━━━━━━━━━━━━━━━━━━━━━━━━━━━━━━━━━━\u001b[0m \u001b[32m6.7/6.7 MB\u001b[0m \u001b[31m79.5 MB/s\u001b[0m eta \u001b[36m0:00:00\u001b[0m\n",
            "\u001b[?25hCollecting pyjwt\n",
            "  Downloading PyJWT-2.6.0-py3-none-any.whl (20 kB)\n",
            "Collecting aioboto3==10.4.0\n",
            "  Downloading aioboto3-10.4.0-py3-none-any.whl (32 kB)\n",
            "Requirement already satisfied: nest_asyncio in /usr/local/lib/python3.9/dist-packages (from deeplake) (1.5.6)\n",
            "Collecting aiobotocore[boto3]==2.4.2\n",
            "  Downloading aiobotocore-2.4.2-py3-none-any.whl (66 kB)\n",
            "\u001b[2K     \u001b[90m━━━━━━━━━━━━━━━━━━━━━━━━━━━━━━━━━━━━━━━━\u001b[0m \u001b[32m66.8/66.8 kB\u001b[0m \u001b[31m9.5 MB/s\u001b[0m eta \u001b[36m0:00:00\u001b[0m\n",
            "\u001b[?25hCollecting aiohttp>=3.3.1\n",
            "  Downloading aiohttp-3.8.4-cp39-cp39-manylinux_2_17_x86_64.manylinux2014_x86_64.whl (1.0 MB)\n",
            "\u001b[2K     \u001b[90m━━━━━━━━━━━━━━━━━━━━━━━━━━━━━━━━━━━━━━━━\u001b[0m \u001b[32m1.0/1.0 MB\u001b[0m \u001b[31m77.3 MB/s\u001b[0m eta \u001b[36m0:00:00\u001b[0m\n",
            "\u001b[?25hCollecting botocore<1.27.60,>=1.27.59\n",
            "  Downloading botocore-1.27.59-py3-none-any.whl (9.1 MB)\n",
            "\u001b[2K     \u001b[90m━━━━━━━━━━━━━━━━━━━━━━━━━━━━━━━━━━━━━━━━\u001b[0m \u001b[32m9.1/9.1 MB\u001b[0m \u001b[31m104.7 MB/s\u001b[0m eta \u001b[36m0:00:00\u001b[0m\n",
            "\u001b[?25hRequirement already satisfied: wrapt>=1.10.10 in /usr/local/lib/python3.9/dist-packages (from aiobotocore[boto3]==2.4.2->aioboto3==10.4.0->deeplake) (1.14.1)\n",
            "Collecting aioitertools>=0.5.1\n",
            "  Downloading aioitertools-0.11.0-py3-none-any.whl (23 kB)\n",
            "Collecting boto3\n",
            "  Downloading boto3-1.24.59-py3-none-any.whl (132 kB)\n",
            "\u001b[2K     \u001b[90m━━━━━━━━━━━━━━━━━━━━━━━━━━━━━━━━━━━━━━\u001b[0m \u001b[32m132.5/132.5 kB\u001b[0m \u001b[31m19.7 MB/s\u001b[0m eta \u001b[36m0:00:00\u001b[0m\n",
            "\u001b[?25hCollecting jmespath<2.0.0,>=0.7.1\n",
            "  Downloading jmespath-1.0.1-py3-none-any.whl (20 kB)\n",
            "Collecting s3transfer<0.7.0,>=0.6.0\n",
            "  Downloading s3transfer-0.6.0-py3-none-any.whl (79 kB)\n",
            "\u001b[2K     \u001b[90m━━━━━━━━━━━━━━━━━━━━━━━━━━━━━━━━━━━━━━━━\u001b[0m \u001b[32m79.6/79.6 kB\u001b[0m \u001b[31m12.4 MB/s\u001b[0m eta \u001b[36m0:00:00\u001b[0m\n",
            "\u001b[?25hRequirement already satisfied: requests in /usr/local/lib/python3.9/dist-packages (from humbug>=0.3.1->deeplake) (2.27.1)\n",
            "Requirement already satisfied: entrypoints in /usr/local/lib/python3.9/dist-packages (from numcodecs->deeplake) (0.4)\n",
            "Collecting multiprocess>=0.70.14\n",
            "  Downloading multiprocess-0.70.14-py39-none-any.whl (132 kB)\n",
            "\u001b[2K     \u001b[90m━━━━━━━━━━━━━━━━━━━━━━━━━━━━━━━━━━━━━━\u001b[0m \u001b[32m132.9/132.9 kB\u001b[0m \u001b[31m19.5 MB/s\u001b[0m eta \u001b[36m0:00:00\u001b[0m\n",
            "\u001b[?25hCollecting dill>=0.3.6\n",
            "  Downloading dill-0.3.6-py3-none-any.whl (110 kB)\n",
            "\u001b[2K     \u001b[90m━━━━━━━━━━━━━━━━━━━━━━━━━━━━━━━━━━━━━━\u001b[0m \u001b[32m110.5/110.5 kB\u001b[0m \u001b[31m15.0 MB/s\u001b[0m eta \u001b[36m0:00:00\u001b[0m\n",
            "\u001b[?25hCollecting pox>=0.3.2\n",
            "  Downloading pox-0.3.2-py3-none-any.whl (29 kB)\n",
            "Collecting ppft>=1.7.6.6\n",
            "  Downloading ppft-1.7.6.6-py3-none-any.whl (52 kB)\n",
            "\u001b[2K     \u001b[90m━━━━━━━━━━━━━━━━━━━━━━━━━━━━━━━━━━━━━━━━\u001b[0m \u001b[32m52.8/52.8 kB\u001b[0m \u001b[31m7.5 MB/s\u001b[0m eta \u001b[36m0:00:00\u001b[0m\n",
            "\u001b[?25hRequirement already satisfied: python-dateutil<3.0.0,>=2.1 in /usr/local/lib/python3.9/dist-packages (from botocore<1.27.60,>=1.27.59->aiobotocore[boto3]==2.4.2->aioboto3==10.4.0->deeplake) (2.8.2)\n",
            "Requirement already satisfied: urllib3<1.27,>=1.25.4 in /usr/local/lib/python3.9/dist-packages (from botocore<1.27.60,>=1.27.59->aiobotocore[boto3]==2.4.2->aioboto3==10.4.0->deeplake) (1.26.15)\n",
            "Requirement already satisfied: certifi>=2017.4.17 in /usr/local/lib/python3.9/dist-packages (from requests->humbug>=0.3.1->deeplake) (2022.12.7)\n",
            "Requirement already satisfied: idna<4,>=2.5 in /usr/local/lib/python3.9/dist-packages (from requests->humbug>=0.3.1->deeplake) (3.4)\n",
            "Requirement already satisfied: charset-normalizer~=2.0.0 in /usr/local/lib/python3.9/dist-packages (from requests->humbug>=0.3.1->deeplake) (2.0.12)\n",
            "Collecting frozenlist>=1.1.1\n",
            "  Downloading frozenlist-1.3.3-cp39-cp39-manylinux_2_5_x86_64.manylinux1_x86_64.manylinux_2_17_x86_64.manylinux2014_x86_64.whl (158 kB)\n",
            "\u001b[2K     \u001b[90m━━━━━━━━━━━━━━━━━━━━━━━━━━━━━━━━━━━━━━\u001b[0m \u001b[32m158.8/158.8 kB\u001b[0m \u001b[31m23.6 MB/s\u001b[0m eta \u001b[36m0:00:00\u001b[0m\n",
            "\u001b[?25hCollecting aiosignal>=1.1.2\n",
            "  Downloading aiosignal-1.3.1-py3-none-any.whl (7.6 kB)\n",
            "Collecting async-timeout<5.0,>=4.0.0a3\n",
            "  Downloading async_timeout-4.0.2-py3-none-any.whl (5.8 kB)\n",
            "Requirement already satisfied: attrs>=17.3.0 in /usr/local/lib/python3.9/dist-packages (from aiohttp>=3.3.1->aiobotocore[boto3]==2.4.2->aioboto3==10.4.0->deeplake) (22.2.0)\n",
            "Collecting multidict<7.0,>=4.5\n",
            "  Downloading multidict-6.0.4-cp39-cp39-manylinux_2_17_x86_64.manylinux2014_x86_64.whl (114 kB)\n",
            "\u001b[2K     \u001b[90m━━━━━━━━━━━━━━━━━━━━━━━━━━━━━━━━━━━━━━\u001b[0m \u001b[32m114.2/114.2 kB\u001b[0m \u001b[31m18.1 MB/s\u001b[0m eta \u001b[36m0:00:00\u001b[0m\n",
            "\u001b[?25hCollecting yarl<2.0,>=1.0\n",
            "  Downloading yarl-1.8.2-cp39-cp39-manylinux_2_17_x86_64.manylinux2014_x86_64.whl (264 kB)\n",
            "\u001b[2K     \u001b[90m━━━━━━━━━━━━━━━━━━━━━━━━━━━━━━━━━━━━━━\u001b[0m \u001b[32m264.6/264.6 kB\u001b[0m \u001b[31m34.5 MB/s\u001b[0m eta \u001b[36m0:00:00\u001b[0m\n",
            "\u001b[?25hRequirement already satisfied: typing_extensions>=4.0 in /usr/local/lib/python3.9/dist-packages (from aioitertools>=0.5.1->aiobotocore[boto3]==2.4.2->aioboto3==10.4.0->deeplake) (4.5.0)\n",
            "Requirement already satisfied: six>=1.5 in /usr/local/lib/python3.9/dist-packages (from python-dateutil<3.0.0,>=2.1->botocore<1.27.60,>=1.27.59->aiobotocore[boto3]==2.4.2->aioboto3==10.4.0->deeplake) (1.16.0)\n",
            "Building wheels for collected packages: deeplake\n",
            "  Building wheel for deeplake (setup.py) ... \u001b[?25l\u001b[?25hdone\n",
            "  Created wheel for deeplake: filename=deeplake-3.2.22-py3-none-any.whl size=555351 sha256=34eeb56b7edc9dc332edc43825fbcf773815f618514144f3f48d0c428bf0c5a3\n",
            "  Stored in directory: /root/.cache/pip/wheels/24/cb/09/2278354bd08b44c63bc98f9d6bb0d24d406f542357facf6d1c\n",
            "Successfully built deeplake\n",
            "Installing collected packages: pyjwt, ppft, pox, numcodecs, multidict, jmespath, frozenlist, dill, async-timeout, aioitertools, yarl, multiprocess, humbug, botocore, aiosignal, s3transfer, pathos, aiohttp, boto3, aiobotocore, aioboto3, deeplake\n",
            "Successfully installed aioboto3-10.4.0 aiobotocore-2.4.2 aiohttp-3.8.4 aioitertools-0.11.0 aiosignal-1.3.1 async-timeout-4.0.2 boto3-1.24.59 botocore-1.27.59 deeplake-3.2.22 dill-0.3.6 frozenlist-1.3.3 humbug-0.3.1 jmespath-1.0.1 multidict-6.0.4 multiprocess-0.70.14 numcodecs-0.11.0 pathos-0.3.0 pox-0.3.2 ppft-1.7.6.6 pyjwt-2.6.0 s3transfer-0.6.0 yarl-1.8.2\n"
          ]
        }
      ]
    },
    {
      "cell_type": "code",
      "source": [
        "import deeplake\n",
        "ds = deeplake.load('hub://activeloop/office-home-domain-adaptation')"
      ],
      "metadata": {
        "colab": {
          "base_uri": "https://localhost:8080/"
        },
        "id": "RfQWDR7fJFK5",
        "outputId": "6ddaf51d-6b91-42c7-dee6-2c4946a503db"
      },
      "execution_count": null,
      "outputs": [
        {
          "output_type": "stream",
          "name": "stderr",
          "text": [
            "-"
          ]
        },
        {
          "output_type": "stream",
          "name": "stdout",
          "text": [
            "This dataset can be visualized in Jupyter Notebook by ds.visualize() or at https://app.activeloop.ai/activeloop/office-home-domain-adaptation\n",
            "\n"
          ]
        },
        {
          "output_type": "stream",
          "name": "stderr",
          "text": [
            "/"
          ]
        },
        {
          "output_type": "stream",
          "name": "stdout",
          "text": [
            "hub://activeloop/office-home-domain-adaptation loaded successfully.\n",
            "\n"
          ]
        },
        {
          "output_type": "stream",
          "name": "stderr",
          "text": [
            "\r \r\r \r"
          ]
        }
      ]
    },
    {
      "cell_type": "code",
      "source": [
        "dataloader = ds.pytorch(num_workers = 0, batch_size= 128, shuffle = False)\n",
        "train_loader=dataloader\n"
      ],
      "metadata": {
        "colab": {
          "base_uri": "https://localhost:8080/"
        },
        "id": "ilLQq6kYJ0B2",
        "outputId": "87f2864b-4573-4587-fdf6-c3892eebc108"
      },
      "execution_count": null,
      "outputs": [
        {
          "output_type": "stream",
          "name": "stderr",
          "text": [
            "/usr/local/lib/python3.9/dist-packages/deeplake/integrations/pytorch/common.py:91: UserWarning: Decode method for tensors ['images'] is defaulting to numpy. Please consider specifying a decode_method in .pytorch() that maximizes the data preprocessing speed based on your transformation.\n",
            "  warnings.warn(\n"
          ]
        }
      ]
    },
    {
      "cell_type": "code",
      "source": [
        "transform_train = transforms.Compose([\n",
        "    transforms.RandomHorizontalFlip(),\n",
        "    transforms.RandomCrop(size=[32,32]),\n",
        "    transforms.ToTensor(),\n",
        "    transforms.Normalize((0.4914, 0.4822, 0.4465), (0.2023, 0.1994, 0.2010)),\n",
        "])\n",
        "\n",
        "transform_test = transforms.Compose([\n",
        "    transforms.ToTensor(),\n",
        "    transforms.Normalize((0.4914, 0.4822, 0.4465), (0.2023, 0.1994, 0.2010)),\n",
        "])\n",
        "\n",
        "dataset = CIFAR10(root='data/', download=True, transform=transform_train)\n",
        "test_dataset = CIFAR10(root='data/', train=False, transform=transform_test)\n",
        "\n",
        "torch.manual_seed(43)\n",
        "val_size = 5000\n",
        "train_size = len(dataset) - val_size\n",
        "train_ds, val_ds = random_split(dataset, [train_size, val_size])\n",
        "batch_size=128\n",
        "\n",
        "train_loader = DataLoader(dataset, batch_size, shuffle=True, num_workers=0, pin_memory=True)\n",
        "val_loader = DataLoader(val_ds, batch_size, num_workers=0, pin_memory=True)\n",
        "test_loader = DataLoader(test_dataset, batch_size, num_workers=0, pin_memory=True)"
      ],
      "metadata": {
        "id": "EbCEhO4nJm4z"
      },
      "execution_count": null,
      "outputs": []
    },
    {
      "cell_type": "code",
      "source": [
        "from torchvision import datasets\n",
        "from torchvision.transforms import ToTensor\n",
        "train_data = datasets.MNIST(\n",
        "    root = 'data',\n",
        "    train = True,\n",
        "    transform = ToTensor(),\n",
        "    download = True,\n",
        ")\n",
        "test_data = datasets.MNIST(\n",
        "    root = 'data',\n",
        "    train = False,\n",
        "    transform = ToTensor()\n",
        ")"
      ],
      "metadata": {
        "colab": {
          "base_uri": "https://localhost:8080/"
        },
        "id": "oJrFzMrzKG_P",
        "outputId": "4ede520e-e4d0-4186-eb56-0ec3957f3e4c"
      },
      "execution_count": null,
      "outputs": [
        {
          "output_type": "stream",
          "name": "stdout",
          "text": [
            "Downloading http://yann.lecun.com/exdb/mnist/train-images-idx3-ubyte.gz\n",
            "Downloading http://yann.lecun.com/exdb/mnist/train-images-idx3-ubyte.gz to data/MNIST/raw/train-images-idx3-ubyte.gz\n"
          ]
        },
        {
          "output_type": "stream",
          "name": "stderr",
          "text": [
            "100%|██████████| 9912422/9912422 [00:00<00:00, 106821866.17it/s]\n"
          ]
        },
        {
          "output_type": "stream",
          "name": "stdout",
          "text": [
            "Extracting data/MNIST/raw/train-images-idx3-ubyte.gz to data/MNIST/raw\n",
            "\n",
            "Downloading http://yann.lecun.com/exdb/mnist/train-labels-idx1-ubyte.gz\n",
            "Downloading http://yann.lecun.com/exdb/mnist/train-labels-idx1-ubyte.gz to data/MNIST/raw/train-labels-idx1-ubyte.gz\n"
          ]
        },
        {
          "output_type": "stream",
          "name": "stderr",
          "text": [
            "100%|██████████| 28881/28881 [00:00<00:00, 13684556.46it/s]\n"
          ]
        },
        {
          "output_type": "stream",
          "name": "stdout",
          "text": [
            "Extracting data/MNIST/raw/train-labels-idx1-ubyte.gz to data/MNIST/raw\n",
            "\n",
            "Downloading http://yann.lecun.com/exdb/mnist/t10k-images-idx3-ubyte.gz\n",
            "Downloading http://yann.lecun.com/exdb/mnist/t10k-images-idx3-ubyte.gz to data/MNIST/raw/t10k-images-idx3-ubyte.gz\n"
          ]
        },
        {
          "output_type": "stream",
          "name": "stderr",
          "text": [
            "100%|██████████| 1648877/1648877 [00:00<00:00, 25944776.06it/s]\n"
          ]
        },
        {
          "output_type": "stream",
          "name": "stdout",
          "text": [
            "Extracting data/MNIST/raw/t10k-images-idx3-ubyte.gz to data/MNIST/raw\n",
            "\n",
            "Downloading http://yann.lecun.com/exdb/mnist/t10k-labels-idx1-ubyte.gz\n",
            "Downloading http://yann.lecun.com/exdb/mnist/t10k-labels-idx1-ubyte.gz to data/MNIST/raw/t10k-labels-idx1-ubyte.gz\n"
          ]
        },
        {
          "output_type": "stream",
          "name": "stderr",
          "text": [
            "100%|██████████| 4542/4542 [00:00<00:00, 21050308.03it/s]\n"
          ]
        },
        {
          "output_type": "stream",
          "name": "stdout",
          "text": [
            "Extracting data/MNIST/raw/t10k-labels-idx1-ubyte.gz to data/MNIST/raw\n",
            "\n"
          ]
        }
      ]
    },
    {
      "cell_type": "code",
      "source": [
        "from torch.utils.data import DataLoader\n",
        "loaders = {\n",
        "    'train' : torch.utils.data.DataLoader(train_data,\n",
        "                                          batch_size=128,\n",
        "                                          shuffle=True,\n",
        "                                          num_workers=1),\n",
        "\n",
        "    'test'  : torch.utils.data.DataLoader(test_data,\n",
        "                                          batch_size=128,\n",
        "                                          shuffle=True,\n",
        "                                          num_workers=1),\n",
        "}\n",
        "\n",
        "loaders"
      ],
      "metadata": {
        "colab": {
          "base_uri": "https://localhost:8080/"
        },
        "id": "AIFZbO_gKYvM",
        "outputId": "64f6707f-5037-4a88-fc2f-4325ab06741d"
      },
      "execution_count": null,
      "outputs": [
        {
          "output_type": "execute_result",
          "data": {
            "text/plain": [
              "{'train': <torch.utils.data.dataloader.DataLoader at 0x7f99636e5bb0>,\n",
              " 'test': <torch.utils.data.dataloader.DataLoader at 0x7f99636e5af0>}"
            ]
          },
          "metadata": {},
          "execution_count": 3
        }
      ]
    },
    {
      "cell_type": "code",
      "source": [],
      "metadata": {
        "id": "CBvgfdtDJpy4"
      },
      "execution_count": null,
      "outputs": []
    },
    {
      "cell_type": "code",
      "source": [
        "torch.manual_seed(43)\n",
        "val_size = 5000\n",
        "train_size = len(dataset) - val_size\n",
        "train_ds, val_ds = random_split(dataset, [train_size, val_size])\n",
        "# batch_size=125\n",
        "len(train_ds), len(val_ds)\n",
        "len(test_dataset)"
      ],
      "metadata": {
        "colab": {
          "base_uri": "https://localhost:8080/",
          "height": 239
        },
        "id": "JXDHw3krJrce",
        "outputId": "740ffdb9-fdc3-4bc1-8dda-758603064c56"
      },
      "execution_count": null,
      "outputs": [
        {
          "output_type": "error",
          "ename": "NameError",
          "evalue": "ignored",
          "traceback": [
            "\u001b[0;31m---------------------------------------------------------------------------\u001b[0m",
            "\u001b[0;31mNameError\u001b[0m                                 Traceback (most recent call last)",
            "\u001b[0;32m<ipython-input-4-4945400157dc>\u001b[0m in \u001b[0;36m<cell line: 3>\u001b[0;34m()\u001b[0m\n\u001b[1;32m      1\u001b[0m \u001b[0mtorch\u001b[0m\u001b[0;34m.\u001b[0m\u001b[0mmanual_seed\u001b[0m\u001b[0;34m(\u001b[0m\u001b[0;36m43\u001b[0m\u001b[0;34m)\u001b[0m\u001b[0;34m\u001b[0m\u001b[0;34m\u001b[0m\u001b[0m\n\u001b[1;32m      2\u001b[0m \u001b[0mval_size\u001b[0m \u001b[0;34m=\u001b[0m \u001b[0;36m5000\u001b[0m\u001b[0;34m\u001b[0m\u001b[0;34m\u001b[0m\u001b[0m\n\u001b[0;32m----> 3\u001b[0;31m \u001b[0mtrain_size\u001b[0m \u001b[0;34m=\u001b[0m \u001b[0mlen\u001b[0m\u001b[0;34m(\u001b[0m\u001b[0mdataset\u001b[0m\u001b[0;34m)\u001b[0m \u001b[0;34m-\u001b[0m \u001b[0mval_size\u001b[0m\u001b[0;34m\u001b[0m\u001b[0;34m\u001b[0m\u001b[0m\n\u001b[0m\u001b[1;32m      4\u001b[0m \u001b[0mtrain_ds\u001b[0m\u001b[0;34m,\u001b[0m \u001b[0mval_ds\u001b[0m \u001b[0;34m=\u001b[0m \u001b[0mrandom_split\u001b[0m\u001b[0;34m(\u001b[0m\u001b[0mdataset\u001b[0m\u001b[0;34m,\u001b[0m \u001b[0;34m[\u001b[0m\u001b[0mtrain_size\u001b[0m\u001b[0;34m,\u001b[0m \u001b[0mval_size\u001b[0m\u001b[0;34m]\u001b[0m\u001b[0;34m)\u001b[0m\u001b[0;34m\u001b[0m\u001b[0;34m\u001b[0m\u001b[0m\n\u001b[1;32m      5\u001b[0m \u001b[0;31m# batch_size=125\u001b[0m\u001b[0;34m\u001b[0m\u001b[0;34m\u001b[0m\u001b[0m\n",
            "\u001b[0;31mNameError\u001b[0m: name 'dataset' is not defined"
          ]
        }
      ]
    },
    {
      "cell_type": "code",
      "source": [
        "  train_loader=loaders['train']\n",
        "  test_loader=loaders['test']\n"
      ],
      "metadata": {
        "id": "bMZu9aTFLH4_"
      },
      "execution_count": null,
      "outputs": []
    },
    {
      "cell_type": "code",
      "source": [
        "def Generate_Permutation(seedv):\n",
        "  print(\"Applying permutation to MNIST pixels\")\n",
        "  rng_permute = np.random.RandomState(seedv)\n",
        "  idx_permute = rng_permute.permutation(784)\n",
        "  transform = torchvision.transforms.Compose([torchvision.transforms.ToTensor(),\n",
        "                torchvision.transforms.Lambda(lambda x: x.view(-1)[idx_permute].view(1, 28, 28) )])\n",
        "\n",
        "  TL = torch.utils.data.DataLoader(datasets.MNIST('data', train=True, download=True,\n",
        "                    transform=transform),batch_size=128, shuffle=True)\n",
        "\n",
        "  TeL = torch.utils.data.DataLoader(datasets.MNIST('data', train=False, download=True,\n",
        "                    transform=transform),batch_size=128, shuffle=True)\n",
        "\n",
        "  return TL,TeL"
      ],
      "metadata": {
        "id": "CPk4cHu6VQvo"
      },
      "execution_count": null,
      "outputs": []
    },
    {
      "cell_type": "code",
      "source": [
        "Tasks_Train=[]\n",
        "Tasks_Test=[]\n",
        "\n",
        "Tasks_Train.append(train_loader)\n",
        "Tasks_Test.append(test_loader)\n",
        "\n",
        "TL,TeL=Generate_Permutation(1)\n",
        "Tasks_Train.append(TL)\n",
        "Tasks_Test.append(TeL)\n",
        "\n",
        "TL,TeL=Generate_Permutation(4)\n",
        "Tasks_Train.append(TL)\n",
        "Tasks_Test.append(TeL)\n",
        "\n",
        "\n",
        "TL,TeL=Generate_Permutation(3)\n",
        "Tasks_Train.append(TL)\n",
        "Tasks_Test.append(TeL)\n",
        "\n",
        "TL,TeL=Generate_Permutation(2)\n",
        "Tasks_Train.append(TL)\n",
        "Tasks_Test.append(TeL)"
      ],
      "metadata": {
        "colab": {
          "base_uri": "https://localhost:8080/"
        },
        "id": "YOuhdI9nifRm",
        "outputId": "93393135-ea01-4b5b-c5b8-361bf2c1a236"
      },
      "execution_count": null,
      "outputs": [
        {
          "output_type": "stream",
          "name": "stdout",
          "text": [
            "Applying permutation to MNIST pixels\n",
            "Applying permutation to MNIST pixels\n",
            "Applying permutation to MNIST pixels\n",
            "Applying permutation to MNIST pixels\n"
          ]
        }
      ]
    },
    {
      "cell_type": "code",
      "source": [
        "import matplotlib.pyplot as plt\n",
        "import numpy as np\n",
        "%matplotlib inline\n",
        "# functions to show an image\n",
        "\n",
        "\n",
        "def imshow(img):\n",
        "    img = img / 2 + 0.5     # unnormalize\n",
        "    npimg = img.numpy()\n",
        "    plt.imshow(np.transpose(npimg, (1, 2, 0))) #if i remove (1,2,0) it showing single vector.\n",
        "\n",
        "\n",
        "# get some random training images\n",
        "# dataiter = iter(train_loader)\n",
        "# images, labels = dataiter.next()\n",
        "\n",
        "dataiter = iter(TL1)\n",
        "data = next(dataiter)\n",
        "images, labels=data\n",
        "\n",
        "# show images\n",
        "imshow(torchvision.utils.make_grid(images))"
      ],
      "metadata": {
        "colab": {
          "base_uri": "https://localhost:8080/",
          "height": 239
        },
        "id": "uAEAKwPeVaaB",
        "outputId": "6fce366d-746e-4ae6-a534-bdcf93ffb18e"
      },
      "execution_count": null,
      "outputs": [
        {
          "output_type": "error",
          "ename": "NameError",
          "evalue": "ignored",
          "traceback": [
            "\u001b[0;31m---------------------------------------------------------------------------\u001b[0m",
            "\u001b[0;31mNameError\u001b[0m                                 Traceback (most recent call last)",
            "\u001b[0;32m<ipython-input-8-923dc2bb7703>\u001b[0m in \u001b[0;36m<cell line: 17>\u001b[0;34m()\u001b[0m\n\u001b[1;32m     15\u001b[0m \u001b[0;31m# images, labels = dataiter.next()\u001b[0m\u001b[0;34m\u001b[0m\u001b[0;34m\u001b[0m\u001b[0m\n\u001b[1;32m     16\u001b[0m \u001b[0;34m\u001b[0m\u001b[0m\n\u001b[0;32m---> 17\u001b[0;31m \u001b[0mdataiter\u001b[0m \u001b[0;34m=\u001b[0m \u001b[0miter\u001b[0m\u001b[0;34m(\u001b[0m\u001b[0mTL1\u001b[0m\u001b[0;34m)\u001b[0m\u001b[0;34m\u001b[0m\u001b[0;34m\u001b[0m\u001b[0m\n\u001b[0m\u001b[1;32m     18\u001b[0m \u001b[0mdata\u001b[0m \u001b[0;34m=\u001b[0m \u001b[0mnext\u001b[0m\u001b[0;34m(\u001b[0m\u001b[0mdataiter\u001b[0m\u001b[0;34m)\u001b[0m\u001b[0;34m\u001b[0m\u001b[0;34m\u001b[0m\u001b[0m\n\u001b[1;32m     19\u001b[0m \u001b[0mimages\u001b[0m\u001b[0;34m,\u001b[0m \u001b[0mlabels\u001b[0m\u001b[0;34m=\u001b[0m\u001b[0mdata\u001b[0m\u001b[0;34m\u001b[0m\u001b[0;34m\u001b[0m\u001b[0m\n",
            "\u001b[0;31mNameError\u001b[0m: name 'TL1' is not defined"
          ]
        }
      ]
    },
    {
      "cell_type": "code",
      "source": [
        "for bt,lb in TL1:\n",
        "  x=bt[0]\n",
        "  lb=lb\n",
        "\n",
        "\n",
        "import matplotlib.pyplot as plt\n",
        "plt.imshow(datasets.MNIST('data', train=True, download=True,\n",
        "                   transform=transform).data[0], cmap='gray')\n",
        "plt.title('%i' % datasets.MNIST('data', train=True, download=True,\n",
        "                   transform=transform).targets[0])\n",
        "plt.show()"
      ],
      "metadata": {
        "colab": {
          "base_uri": "https://localhost:8080/",
          "height": 239
        },
        "id": "hNFFI75WTLbD",
        "outputId": "c7e3446b-02bf-4770-b4c3-ac1f28500042"
      },
      "execution_count": null,
      "outputs": [
        {
          "output_type": "error",
          "ename": "NameError",
          "evalue": "ignored",
          "traceback": [
            "\u001b[0;31m---------------------------------------------------------------------------\u001b[0m",
            "\u001b[0;31mNameError\u001b[0m                                 Traceback (most recent call last)",
            "\u001b[0;32m<ipython-input-9-224ec2ae06c7>\u001b[0m in \u001b[0;36m<cell line: 1>\u001b[0;34m()\u001b[0m\n\u001b[0;32m----> 1\u001b[0;31m \u001b[0;32mfor\u001b[0m \u001b[0mbt\u001b[0m\u001b[0;34m,\u001b[0m\u001b[0mlb\u001b[0m \u001b[0;32min\u001b[0m \u001b[0mTL1\u001b[0m\u001b[0;34m:\u001b[0m\u001b[0;34m\u001b[0m\u001b[0;34m\u001b[0m\u001b[0m\n\u001b[0m\u001b[1;32m      2\u001b[0m   \u001b[0mx\u001b[0m\u001b[0;34m=\u001b[0m\u001b[0mbt\u001b[0m\u001b[0;34m[\u001b[0m\u001b[0;36m0\u001b[0m\u001b[0;34m]\u001b[0m\u001b[0;34m\u001b[0m\u001b[0;34m\u001b[0m\u001b[0m\n\u001b[1;32m      3\u001b[0m   \u001b[0mlb\u001b[0m\u001b[0;34m=\u001b[0m\u001b[0mlb\u001b[0m\u001b[0;34m\u001b[0m\u001b[0;34m\u001b[0m\u001b[0m\n\u001b[1;32m      4\u001b[0m \u001b[0;34m\u001b[0m\u001b[0m\n\u001b[1;32m      5\u001b[0m \u001b[0;34m\u001b[0m\u001b[0m\n",
            "\u001b[0;31mNameError\u001b[0m: name 'TL1' is not defined"
          ]
        }
      ]
    },
    {
      "cell_type": "code",
      "source": [
        "import matplotlib.pyplot as plt\n",
        "plt.imshow(x.data[0], cmap='gray')\n",
        "plt.title('%i' % lb.data[0])\n",
        "plt.show()"
      ],
      "metadata": {
        "colab": {
          "base_uri": "https://localhost:8080/",
          "height": 452
        },
        "id": "Zc79_qgwa6D6",
        "outputId": "dcc0fc45-a521-45e6-d23f-d4f3c5bc3315"
      },
      "execution_count": null,
      "outputs": [
        {
          "output_type": "display_data",
          "data": {
            "text/plain": [
              "<Figure size 640x480 with 1 Axes>"
            ],
            "image/png": "[encoded data removed]"
          },
          "metadata": {}
        }
      ]
    },
    {
      "cell_type": "code",
      "source": [
        "import matplotlib.pyplot as plt\n",
        "import numpy as np\n",
        "%matplotlib inline\n",
        "# functions to show an image\n",
        "\n",
        "\n",
        "def imshow(img):\n",
        "    img = img / 2 + 0.5     # unnormalize\n",
        "    npimg = img.numpy()\n",
        "    plt.imshow(np.transpose(npimg, (1, 2, 0))) #if i remove (1,2,0) it showing single vector.\n",
        "\n",
        "\n",
        "# get some random training images\n",
        "\n",
        "\n",
        "dataiter = iter(TL1)\n",
        "data = next(dataiter)\n",
        "images, labels=data\n",
        "\n",
        "# show images\n",
        "imshow(torchvision.utils.make_grid(images))"
      ],
      "metadata": {
        "colab": {
          "base_uri": "https://localhost:8080/",
          "height": 435
        },
        "id": "DxbjWilHR1RU",
        "outputId": "d5ce57a8-a840-4a16-cae7-6a9bbf95e953"
      },
      "execution_count": null,
      "outputs": [
        {
          "output_type": "display_data",
          "data": {
            "text/plain": [
              "<Figure size 640x480 with 1 Axes>"
            ],
            "image/png": "[encoded data removed]"
          },
          "metadata": {}
        }
      ]
    },
    {
      "cell_type": "code",
      "source": [
        "input_size = 1*28*28\n",
        "output_size = 10"
      ],
      "metadata": {
        "id": "OiRV6moYJup_"
      },
      "execution_count": null,
      "outputs": []
    },
    {
      "cell_type": "code",
      "source": [
        "\"\"\"VGG(\n",
        "  (convs): Sequential(\n",
        "    (0): Conv2d(3, 64, kernel_size=(3, 3), stride=(1, 1), padding=(1, 1))\n",
        "    (1): BatchNorm2d(64, eps=1e-05, momentum=0.1, affine=True, track_running_stats=True)\n",
        "    (2): ReLU()\n",
        "    (3): MaxPool2d(kernel_size=(2, 2), stride=(2, 2), padding=0, dilation=1, ceil_mode=False)\n",
        "    (4): Conv2d(64, 64, kernel_size=(3, 3), stride=(1, 1), padding=(1, 1))\n",
        "    (5): BatchNorm2d(64, eps=1e-05, momentum=0.1, affine=True, track_running_stats=True)\n",
        "    (6): ReLU()\n",
        "    (7): MaxPool2d(kernel_size=(2, 2), stride=(2, 2), padding=0, dilation=1, ceil_mode=False)\n",
        "    (8): Conv2d(64, 128, kernel_size=(3, 3), stride=(1, 1), padding=(1, 1))\n",
        "    (9): BatchNorm2d(128, eps=1e-05, momentum=0.1, affine=True, track_running_stats=True)\n",
        "    (10): ReLU()\n",
        "    (11): MaxPool2d(kernel_size=(2, 2), stride=(2, 2), padding=0, dilation=1, ceil_mode=False)\n",
        "    (12): Conv2d(128, 128, kernel_size=(3, 3), stride=(1, 1), padding=(1, 1))\n",
        "    (13): BatchNorm2d(128, eps=1e-05, momentum=0.1, affine=True, track_running_stats=True)\n",
        "    (14): ReLU()\n",
        "    (15): MaxPool2d(kernel_size=(2, 2), stride=(2, 2), padding=0, dilation=1, ceil_mode=False)\n",
        "    (16): Conv2d(128, 256, kernel_size=(3, 3), stride=(1, 1), padding=(1, 1))\n",
        "    (17): BatchNorm2d(256, eps=1e-05, momentum=0.1, affine=True, track_running_stats=True)\n",
        "    (18): ReLU()\n",
        "    (19): MaxPool2d(kernel_size=(2, 2), stride=(2, 2), padding=0, dilation=1, ceil_mode=False)\n",
        "    (20): Conv2d(256, 256, kernel_size=(3, 3), stride=(1, 1), padding=(1, 1))\n",
        "    (21): BatchNorm2d(256, eps=1e-05, momentum=0.1, affine=True, track_running_stats=True)\n",
        "    (22): ReLU()\n",
        "    (23): MaxPool2d(kernel_size=(2, 2), stride=(2, 2), padding=0, dilation=1, ceil_mode=False)\n",
        "    (24): Conv2d(256, 256, kernel_size=(3, 3), stride=(1, 1), padding=(1, 1))\n",
        "    (25): BatchNorm2d(256, eps=1e-05, momentum=0.1, affine=True, track_running_stats=True)\n",
        "    (26): ReLU()\n",
        "    (27): MaxPool2d(kernel_size=(2, 2), stride=(2, 2), padding=0, dilation=1, ceil_mode=False)\n",
        "    (28): Conv2d(256, 512, kernel_size=(3, 3), stride=(1, 1), padding=(1, 1))\n",
        "    (29): BatchNorm2d(512, eps=1e-05, momentum=0.1, affine=True, track_running_stats=True)\n",
        "    (30): ReLU()\n",
        "    (31): MaxPool2d(kernel_size=(2, 2), stride=(2, 2), padding=0, dilation=1, ceil_mode=False)\n",
        "    (32): Conv2d(512, 512, kernel_size=(3, 3), stride=(1, 1), padding=(1, 1))\n",
        "    (33): BatchNorm2d(512, eps=1e-05, momentum=0.1, affine=True, track_running_stats=True)\n",
        "    (34): ReLU()\n",
        "    (35): MaxPool2d(kernel_size=(2, 2), stride=(2, 2), padding=0, dilation=1, ceil_mode=False)\n",
        "    (36): Conv2d(512, 512, kernel_size=(3, 3), stride=(1, 1), padding=(1, 1))\n",
        "    (37): BatchNorm2d(512, eps=1e-05, momentum=0.1, affine=True, track_running_stats=True)\n",
        "    (38): ReLU()\n",
        "    (39): MaxPool2d(kernel_size=(2, 2), stride=(2, 2), padding=0, dilation=1, ceil_mode=False)\n",
        "    (40): Conv2d(512, 512, kernel_size=(3, 3), stride=(1, 1), padding=(1, 1))\n",
        "    (41): BatchNorm2d(512, eps=1e-05, momentum=0.1, affine=True, track_running_stats=True)\n",
        "    (42): ReLU()\n",
        "    (43): MaxPool2d(kernel_size=(2, 2), stride=(2, 2), padding=0, dilation=1, ceil_mode=False)\n",
        "    (44): Conv2d(512, 512, kernel_size=(3, 3), stride=(1, 1), padding=(1, 1))\n",
        "    (45): BatchNorm2d(512, eps=1e-05, momentum=0.1, affine=True, track_running_stats=True)\n",
        "    (46): ReLU()\n",
        "    (47): MaxPool2d(kernel_size=(2, 2), stride=(2, 2), padding=0, dilation=1, ceil_mode=False)\n",
        "    (48): Conv2d(512, 512, kernel_size=(3, 3), stride=(1, 1), padding=(1, 1))\n",
        "    (49): BatchNorm2d(512, eps=1e-05, momentum=0.1, affine=True, track_running_stats=True)\n",
        "    (50): ReLU()\n",
        "    (51): MaxPool2d(kernel_size=(2, 2), stride=(2, 2), padding=0, dilation=1, ceil_mode=False)\n",
        "  )\n",
        "  (fcs): Sequential(\n",
        "    (0): Linear(in_features=512, out_features=4096, bias=True)\n",
        "    (1): ReLU()\n",
        "    (2): Dropout(p=0.5, inplace=False)\n",
        "    (3): Linear(in_features=4096, out_features=4096, bias=True)\n",
        "    (4): ReLU()\n",
        "    (5): Dropout(p=0.5, inplace=False)\n",
        "    (6): Linear(in_features=4096, out_features=1000, bias=True)\n",
        "  )\n",
        ")\n",
        "\"\"\"\n",
        "\n",
        "\n",
        "\n",
        "# VGG_NPF\n",
        "class VGGNEW(nn.Module):\n",
        "    def __init__(self):\n",
        "        super().__init__()\n",
        "        self.C11= nn.Conv2d(1, 64, kernel_size=3, padding=1)\n",
        "        self.B11=nn.BatchNorm2d(64)\n",
        "\n",
        "\n",
        "        self.C12=nn.Conv2d(64, 64, kernel_size=(3, 3),padding=1)\n",
        "        self.B12=nn.BatchNorm2d(64)\n",
        "        self.M12=nn.AvgPool2d(2,2)\n",
        "\n",
        "\n",
        "        self.C21=nn.Conv2d(64, 128,kernel_size=(3, 3), padding=(1, 1))\n",
        "        self.B21=nn.BatchNorm2d(128)\n",
        "\n",
        "        self.C22=nn.Conv2d(128, 128, kernel_size=(3, 3), padding=(1, 1))\n",
        "        self.B22=nn.BatchNorm2d(128)\n",
        "        self.M22=nn.AvgPool2d(2,2,padding=1)\n",
        "\n",
        "        self.C31=nn.Conv2d(128, 256, kernel_size=(3, 3), padding=(1, 1))\n",
        "        self.B31=nn.BatchNorm2d(256)\n",
        "\n",
        "\n",
        "        self.C32=nn.Conv2d(256, 256, kernel_size=(3, 3),  padding=(1, 1))\n",
        "        self.B32=nn.BatchNorm2d(256)\n",
        "\n",
        "        self.C33=nn.Conv2d(256, 256, kernel_size=(3, 3),  padding=(1, 1))\n",
        "        self.B33=nn.BatchNorm2d(256)\n",
        "        self.M33=nn.AvgPool2d(2,2,padding=1)\n",
        "\n",
        "        self.C41=nn.Conv2d(256, 512, kernel_size=(3, 3),  padding=(1, 1))\n",
        "        self.B41=nn.BatchNorm2d(512)\n",
        "\n",
        "        self.C42=nn.Conv2d(512, 512, kernel_size=(3, 3),  padding=(1, 1))\n",
        "        self.B42=nn.BatchNorm2d(512)\n",
        "\n",
        "\n",
        "        self.C43=nn.Conv2d(512, 512, kernel_size=(3, 3),  padding=(1, 1))\n",
        "        self.B43=nn.BatchNorm2d(512)\n",
        "        self.M43=nn.AvgPool2d(2,2,padding=1)\n",
        "\n",
        "        self.C51=nn.Conv2d(512, 512, kernel_size=(3, 3), padding=(1, 1))\n",
        "        self.B51=nn.BatchNorm2d(512)\n",
        "\n",
        "        self.C52=nn.Conv2d(512, 512, kernel_size=(3, 3),  padding=(1, 1))\n",
        "        self.B52=nn.BatchNorm2d(512)\n",
        "\n",
        "        self.C53=nn.Conv2d(512, 512, kernel_size=(3, 3), padding=(1, 1))\n",
        "        self.B53=nn.BatchNorm2d(512)\n",
        "        self.M53=nn.AvgPool2d(2,2,padding=1)\n",
        "\n",
        "\n",
        "    def forward(self, xb):\n",
        "        #out = xb.view(xb.size(0), -1)\n",
        "        self.Gate_NPF=[]\n",
        "        SIGMOID=torch.nn.Sigmoid()\n",
        "        beta=10\n",
        "\n",
        "        out = self.C11(xb)\n",
        "        out=self.B11(out)\n",
        "        self.Gate_NPF.append(SIGMOID(beta*out))\n",
        "\n",
        "\n",
        "        out = self.C12(out)\n",
        "        out=self.B12(out)\n",
        "        self.Gate_NPF.append(SIGMOID(beta*out))\n",
        "        out = self.M12(out)\n",
        "\n",
        "        out = self.C21(out)\n",
        "        out=self.B21(out)\n",
        "        self.Gate_NPF.append(SIGMOID(beta*out))\n",
        "\n",
        "\n",
        "        out = self.C22(out)\n",
        "        out=self.B22(out)\n",
        "        self.Gate_NPF.append(SIGMOID(beta*out))\n",
        "        out = self.M22(out)\n",
        "\n",
        "        out = self.C31(out)\n",
        "        out=self.B31(out)\n",
        "        self.Gate_NPF.append(SIGMOID(beta*out))\n",
        "\n",
        "\n",
        "        out = self.C32(out)\n",
        "        out=self.B32(out)\n",
        "        self.Gate_NPF.append(SIGMOID(beta*out))\n",
        "\n",
        "\n",
        "        out = self.C33(out)\n",
        "        out=self.B33(out)\n",
        "        self.Gate_NPF.append(SIGMOID(beta*out))\n",
        "        out = self.M33(out)\n",
        "\n",
        "        out = self.C41(out)\n",
        "        out=self.B41(out)\n",
        "        self.Gate_NPF.append(SIGMOID(beta*out))\n",
        "\n",
        "\n",
        "        out = self.C42(out)\n",
        "        out=self.B42(out)\n",
        "        self.Gate_NPF.append(SIGMOID(beta*out))\n",
        "\n",
        "\n",
        "        out = self.C43(out)\n",
        "        out=self.B43(out)\n",
        "        self.Gate_NPF.append(SIGMOID(beta*out))\n",
        "        out = self.M43(out)\n",
        "\n",
        "        out = self.C51(out)\n",
        "        out=self.B51(out)\n",
        "        self.Gate_NPF.append(SIGMOID(beta*out))\n",
        "\n",
        "\n",
        "        out = self.C52(out)\n",
        "        out=self.B52(out)\n",
        "        self.Gate_NPF.append(SIGMOID(beta*out))\n",
        "\n",
        "\n",
        "        out = self.C53(out)\n",
        "        out=self.B53(out)\n",
        "        self.Gate_NPF.append(SIGMOID(beta*out))\n",
        "        out = self.M53(out)\n",
        "\n",
        "    def Return_NPF_Gates(self):\n",
        "      return self.Gate_NPF"
      ],
      "metadata": {
        "id": "jMKgxTC6JxdM"
      },
      "execution_count": null,
      "outputs": []
    },
    {
      "cell_type": "code",
      "source": [],
      "metadata": {
        "id": "R45amHCPJ1__"
      },
      "execution_count": null,
      "outputs": []
    },
    {
      "cell_type": "code",
      "source": [
        "class VGGWeight(nn.Module):\n",
        "    def __init__(self):\n",
        "        super().__init__()\n",
        "        self.C11= nn.Conv2d(1, 64, kernel_size=3, padding=1)\n",
        "        self.B11=nn.BatchNorm2d(64)\n",
        "\n",
        "\n",
        "        self.C12=nn.Conv2d(64, 64, kernel_size=(3, 3),padding=1)\n",
        "        self.B12=nn.BatchNorm2d(64)\n",
        "        self.M12=nn.MaxPool2d(2,2)\n",
        "\n",
        "\n",
        "        self.C21=nn.Conv2d(64, 128,kernel_size=(3, 3), padding=(1, 1))\n",
        "        self.B21=nn.BatchNorm2d(128)\n",
        "\n",
        "\n",
        "        self.C22=nn.Conv2d(128, 128, kernel_size=(3, 3), padding=(1, 1))\n",
        "        self.B22=nn.BatchNorm2d(128)\n",
        "        self.M22=nn.MaxPool2d(2,2,padding=1)\n",
        "\n",
        "        self.C31=nn.Conv2d(128, 256, kernel_size=(3, 3), padding=(1, 1))\n",
        "        self.B31=nn.BatchNorm2d(256)\n",
        "\n",
        "\n",
        "        self.C32=nn.Conv2d(256, 256, kernel_size=(3, 3),  padding=(1, 1))\n",
        "        self.B32=nn.BatchNorm2d(256)\n",
        "\n",
        "\n",
        "        self.C33=nn.Conv2d(256, 256, kernel_size=(3, 3),  padding=(1, 1))\n",
        "        self.B33=nn.BatchNorm2d(256)\n",
        "        self.M33=nn.MaxPool2d(2,2,padding=1)\n",
        "\n",
        "        self.C41=nn.Conv2d(256, 512, kernel_size=(3, 3),  padding=(1, 1))\n",
        "        self.B41=nn.BatchNorm2d(512)\n",
        "\n",
        "\n",
        "        self.C42=nn.Conv2d(512, 512, kernel_size=(3, 3),  padding=(1, 1))\n",
        "        self.B42=nn.BatchNorm2d(512)\n",
        "\n",
        "\n",
        "        self.C43=nn.Conv2d(512, 512, kernel_size=(3, 3),  padding=(1, 1))\n",
        "        self.B43=nn.BatchNorm2d(512)\n",
        "        self.M43=nn.MaxPool2d(2,2,padding=1)\n",
        "\n",
        "        self.C51=nn.Conv2d(512, 512, kernel_size=(3, 3), padding=(1, 1))\n",
        "        self.B51=nn.BatchNorm2d(512)\n",
        "\n",
        "        self.C52=nn.Conv2d(512, 512, kernel_size=(3, 3),  padding=(1, 1))\n",
        "        self.B52=nn.BatchNorm2d(512)\n",
        "\n",
        "        self.C53=nn.Conv2d(512, 512, kernel_size=(3, 3), padding=(1, 1))\n",
        "        self.B53=nn.BatchNorm2d(512)\n",
        "        self.M53=nn.MaxPool2d(2,2,padding=1)\n",
        "\n",
        "        self.FF=nn.Flatten()\n",
        "        self.L1=nn.Linear(in_features=2048, out_features=4096, bias=True)\n",
        "        self.D1=nn.Dropout(p=0.5, inplace=False)\n",
        "        self.L2=nn.Linear(in_features=4096, out_features=4096, bias=True)\n",
        "        self.D2=nn.Dropout(p=0.5, inplace=False)\n",
        "        self.L3=nn.Linear(in_features=4096, out_features=10, bias=True)\n",
        "\n",
        "\n",
        "    def forward(self, xb,G):\n",
        "       # xb = xb.view(xb.size(0), -1)\n",
        "        SIGMOID=torch.nn.Sigmoid()\n",
        "        beta=10\n",
        "        i=0\n",
        "        out = self.C11(xb)\n",
        "        out=self.B11(out)\n",
        "        out = out*G[i].detach()\n",
        "        i=i+1\n",
        "\n",
        "\n",
        "\n",
        "        out = self.C12(out)\n",
        "        out=self.B12(out)\n",
        "        out = out*G[i].detach()\n",
        "        i=i+1\n",
        "        out = self.M12(out)\n",
        "\n",
        "        out = self.C21(out)\n",
        "        out=self.B21(out)\n",
        "        out = out*G[i].detach()\n",
        "        i=i+1\n",
        "\n",
        "\n",
        "\n",
        "        out = self.C22(out)\n",
        "        out=self.B22(out)\n",
        "        out = out*G[i].detach()\n",
        "        i=i+1\n",
        "        out = self.M22(out)\n",
        "\n",
        "        out = self.C31(out)\n",
        "        out=self.B31(out)\n",
        "        out = out*G[i].detach()\n",
        "        i=i+1\n",
        "\n",
        "        out = self.C32(out)\n",
        "        out=self.B32(out)\n",
        "        out = out*G[i].detach()\n",
        "        i=i+1\n",
        "\n",
        "        out = self.C33(out)\n",
        "        out=self.B33(out)\n",
        "        out = out*G[i].detach()\n",
        "        i=i+1\n",
        "        out = self.M33(out)\n",
        "\n",
        "        out = self.C41(out)\n",
        "        out=self.B41(out)\n",
        "        out = out*G[i].detach()\n",
        "        i=i+1\n",
        "\n",
        "\n",
        "        out = self.C42(out)\n",
        "        out=self.B42(out)\n",
        "        out = out*G[i].detach()\n",
        "        i=i+1\n",
        "\n",
        "\n",
        "        out = self.C43(out)\n",
        "        out=self.B43(out)\n",
        "        out = out*G[i].detach()\n",
        "        i=i+1\n",
        "        out = self.M43(out)\n",
        "\n",
        "        out = self.C51(out)\n",
        "        out=self.B51(out)\n",
        "        out = out*G[i].detach()\n",
        "        i=i+1\n",
        "\n",
        "        out = self.C52(out)\n",
        "        out=self.B52(out)\n",
        "        out = out*G[i].detach()\n",
        "        i=i+1\n",
        "\n",
        "        out = self.C53(out)\n",
        "        out=self.B53(out)\n",
        "        out = out*G[i].detach()\n",
        "        i=i+1\n",
        "        out = self.M53(out)\n",
        "\n",
        "        out=self.FF(out)\n",
        "        out=self.L1(out)\n",
        "        out=self.D1(out)\n",
        "        out=self.L2(out)\n",
        "        out=self.D2(out)\n",
        "        out = self.L3(out)\n",
        "        return out"
      ],
      "metadata": {
        "id": "QV85IfRwJ3n9"
      },
      "execution_count": null,
      "outputs": []
    },
    {
      "cell_type": "code",
      "source": [
        "Model_NPF=VGGNEW()\n",
        "\n",
        "if train_on_gpu:\n",
        "  Model_NPF.cuda()\n",
        "\n",
        "Model_NPV=VGGWeight()\n",
        "\n",
        "if train_on_gpu:\n",
        "  Model_NPV.cuda()\n",
        "\n",
        "\n",
        "\n",
        "# for name, param in Model_NPF.named_parameters():\n",
        "#   print(name)\n",
        "# print(Model_NPV.C11.weight.lr)"
      ],
      "metadata": {
        "id": "yosPBJqfJ5Uf"
      },
      "execution_count": null,
      "outputs": []
    },
    {
      "cell_type": "code",
      "source": [
        "criterion = nn.CrossEntropyLoss()\n",
        "def fit(epochs, lr, Model_NPF,Model_NPV, train_loader,optimizer, opt_func=torch.optim.SGD):\n",
        "    history = []\n",
        "    # optimizer = opt_func(Model_NPV.parameters(),lr,momentum=0.9)\n",
        "    for epoch in range(epochs):\n",
        "        for batch_images,labels in train_loader:\n",
        "            if train_on_gpu:\n",
        "              batch_images, labels = batch_images.cuda(), labels.cuda()\n",
        "              All_ones=torch.ones(batch_images.shape).cuda()\n",
        "            Model_NPF.forward(batch_images)\n",
        "\n",
        "            output=Model_NPV.forward(All_ones,Model_NPF.Return_NPF_Gates())\n",
        "            loss = criterion(output,labels)\n",
        "            loss.backward()\n",
        "            optimizer.step()\n",
        "\n",
        "            optimizer.zero_grad()\n",
        "\n",
        "        if (epoch+1) % 1 == 0:\n",
        "          print (f'Epoch [{epoch+1}/{epochs}], Loss: {loss.item():.4f}')"
      ],
      "metadata": {
        "id": "Vn0EBBouJ7DS"
      },
      "execution_count": null,
      "outputs": []
    },
    {
      "cell_type": "markdown",
      "source": [
        "EWC Starts"
      ],
      "metadata": {
        "id": "fAYAnry--pOw"
      }
    },
    {
      "cell_type": "code",
      "source": [
        "fisher_dict = {}\n",
        "optpar_dict = {}\n",
        "ewc_lambda = 0.4"
      ],
      "metadata": {
        "id": "H8b_ZmpyA1u5"
      },
      "execution_count": null,
      "outputs": []
    },
    {
      "cell_type": "code",
      "source": [
        "def on_task_update(task_id, x_mem, t_mem):\n",
        "\n",
        "  model.train()\n",
        "  optimizer.zero_grad()\n",
        "\n",
        "  # accumulating gradients\n",
        "  for start in range(0, len(t_mem)-1, 256):\n",
        "      end = start + 256\n",
        "      x, y = torch.from_numpy(x_mem[start:end]), torch.from_numpy(t_mem[start:end]).long()\n",
        "      x, y = x.to(device), y.to(device)\n",
        "      output = model(x)\n",
        "      loss = F.cross_entropy(output, y)\n",
        "      loss.backward()\n",
        "\n",
        "  fisher_dict[task_id] = {}\n",
        "  optpar_dict[task_id] = {}\n",
        "\n",
        "  # gradients accumulated can be used to calculate fisher\n",
        "  for name, param in model.named_parameters():\n",
        "\n",
        "    optpar_dict[task_id][name] = param.data.clone()\n",
        "    fisher_dict[task_id][name] = param.grad.data.clone().pow(2)"
      ],
      "metadata": {
        "id": "Uk7P9WvXA5XT"
      },
      "execution_count": null,
      "outputs": []
    },
    {
      "cell_type": "code",
      "source": [
        "criterion = nn.CrossEntropyLoss()\n",
        "def fit(epochs, lr, Model_NPF,Model_NPV, train_loader,optimizer, opt_func=torch.optim.SGD):\n",
        "    history = []\n",
        "    # optimizer = opt_func(Model_NPV.parameters(),lr,momentum=0.9)\n",
        "    for epoch in range(epochs):\n",
        "        for batch_images,labels in train_loader:\n",
        "            if train_on_gpu:\n",
        "              batch_images, labels = batch_images.cuda(), labels.cuda()\n",
        "              All_ones=torch.ones(batch_images.shape).cuda()\n",
        "            Model_NPF.forward(batch_images)\n",
        "\n",
        "            output=Model_NPV.forward(All_ones,Model_NPF.Return_NPF_Gates())\n",
        "            loss = criterion(output,labels)\n",
        "            for task in range(task_id):\n",
        "              for name, param in model.named_parameters():\n",
        "                fisher = fisher_dict[task][name]\n",
        "                optpar = optpar_dict[task][name]\n",
        "                loss += (fisher * (optpar - param).pow(2)).sum() * ewc_lambda\n",
        "\n",
        "\n",
        "\n",
        "            loss.backward()\n",
        "            optimizer.step()\n",
        "\n",
        "            optimizer.zero_grad()\n",
        "\n",
        "        if (epoch+1) % 1 == 0:\n",
        "          print (f'Epoch [{epoch+1}/{epochs}], Loss: {loss.item():.4f}')"
      ],
      "metadata": {
        "id": "Wfq854p_-naE"
      },
      "execution_count": null,
      "outputs": []
    },
    {
      "cell_type": "code",
      "source": [
        "\"\"\"EWC\"\"\"\n",
        "\n",
        "\n",
        "def train_ewc(model, device, task_id, x_train, t_train, optimizer, epoch):\n",
        "    model.train()\n",
        "\n",
        "    for start in range(0, len(t_train)-1, 256):\n",
        "      end = start + 256\n",
        "      x, y = torch.from_numpy(x_train[start:end]), torch.from_numpy(t_train[start:end]).long()\n",
        "      x, y = x.to(device), y.to(device)\n",
        "\n",
        "      optimizer.zero_grad()\n",
        "      batch_images, labels = x.cuda(), y.cuda()\n",
        "      All_ones=torch.ones(256).cuda()\n",
        "      Model_NPF.forward(batch_images)\n",
        "      output=Model_NPV.forward(All_ones,Model_NPF.Return_NPF_Gates())\n",
        "      loss = F.cross_entropy(output, y)\n",
        "\n",
        "      for task in range(task_id):\n",
        "        for name, param in model.named_parameters():\n",
        "          fisher = fisher_dict[task][name]\n",
        "          optpar = optpar_dict[task][name]\n",
        "          loss += (fisher * (optpar - param).pow(2)).sum() * ewc_lambda\n",
        "\n",
        "      loss.backward()\n",
        "      optimizer.step()\n",
        "\n",
        "    print('Train Epoch: {} \\tLoss: {:.6f}'.format(epoch, loss.item()))"
      ],
      "metadata": {
        "id": "hXFLP9-vBX6A"
      },
      "execution_count": null,
      "outputs": []
    },
    {
      "cell_type": "code",
      "source": [
        "ewc_accs = []\n",
        "for id, task in enumerate(tasks):\n",
        "  avg_acc = 0\n",
        "  print(\"Training on task-\",id)\n",
        "  (x_train, t_train), _ = task\n",
        "  for epoch in range(1, 3):\n",
        "    train_ewc(model, device, id, x_train, t_train, optimizer, epoch)\n",
        "  on_task_update(id, x_train, t_train)\n",
        "  for id_test, task in enumerate(tasks):\n",
        "    print(\"Testing on task-\",id_test)\n",
        "    _, (x_test, t_test) = task\n",
        "    acc = test(model, device, x_test, t_test)\n",
        "    avg_acc = avg_acc + acc\n",
        "  print(\"Avg acc: \", avg_acc / 3)\n",
        "  ewc_accs.append(avg_acc / 3)\n",
        "\n",
        "\n",
        "for i in range (5):\n",
        "  print(\"Training for task \",i)\n",
        "  fit(5,0.001,Model_NPF,Model_NPV,Tasks_Train[i],optimizer[i])\n"
      ],
      "metadata": {
        "id": "dyclO5-X-hqz"
      },
      "execution_count": null,
      "outputs": []
    },
    {
      "cell_type": "markdown",
      "source": [
        "EWC"
      ],
      "metadata": {
        "id": "sviVq5Hu-r4-"
      }
    },
    {
      "cell_type": "code",
      "source": [
        "optimizer =[]\n",
        "\n",
        "opt0 = torch.optim.SGD(Model_NPV.parameters(),0.001,momentum=0.9)\n",
        "optimizer.append(opt0)\n",
        "\n",
        "\n",
        "opt1=torch.optim.SGD([\n",
        "            {'params': Model_NPV.C11.weight,'lr': 1},\n",
        "            {'params': Model_NPV.C11.bias, 'lr': 1},\n",
        "            {'params': Model_NPV.B11.weight, 'lr': 1},\n",
        "            {'params': Model_NPV.B11.bias, 'lr': 1},\n",
        "            {'params': Model_NPV.C12.weight,'lr': 1},\n",
        "            {'params': Model_NPV.C12.bias, 'lr': 1},\n",
        "            {'params': Model_NPV.B12.weight, 'lr': 1},\n",
        "            {'params': Model_NPV.B12.bias, 'lr': 1},\n",
        "            {'params': Model_NPV.C21.weight,'lr': 0.9},\n",
        "            {'params': Model_NPV.C21.bias, 'lr': 0.9},\n",
        "            {'params': Model_NPV.B21.weight, 'lr': 0.9},\n",
        "            {'params': Model_NPV.B21.bias, 'lr': 0.9},\n",
        "            {'params': Model_NPV.C22.weight,'lr': 0.9},\n",
        "            {'params': Model_NPV.C22.bias, 'lr': 0.9},\n",
        "            {'params': Model_NPV.B22.weight, 'lr': 0.9},\n",
        "            {'params': Model_NPV.B22.bias, 'lr': 0.9},\n",
        "            {'params': Model_NPV.C31.weight,'lr': 0.001},\n",
        "            {'params': Model_NPV.C31.bias, 'lr': 0.001},\n",
        "            {'params': Model_NPV.B31.weight, 'lr': 0.001},\n",
        "            {'params': Model_NPV.B31.bias, 'lr': 0.001},\n",
        "            {'params': Model_NPV.C32.weight,'lr': 0.001},\n",
        "            {'params': Model_NPV.C32.bias, 'lr': 0.001},\n",
        "            {'params': Model_NPV.B32.weight, 'lr': 0.001},\n",
        "            {'params': Model_NPV.B32.bias, 'lr': 0.001},\n",
        "            {'params': Model_NPV.C33.weight,'lr': 0.001},\n",
        "            {'params': Model_NPV.C33.bias, 'lr': 0.001},\n",
        "            {'params': Model_NPV.B33.weight, 'lr': 0.001},\n",
        "            {'params': Model_NPV.B33.bias, 'lr': 0.001},\n",
        "            {'params': Model_NPV.C41.weight,'lr': 0.001},\n",
        "            {'params': Model_NPV.C41.bias, 'lr': 0.001},\n",
        "            {'params': Model_NPV.B41.weight, 'lr': 0.001},\n",
        "            {'params': Model_NPV.B41.bias, 'lr': 0.001},\n",
        "            {'params': Model_NPV.C42.weight,'lr': 0.001},\n",
        "            {'params': Model_NPV.C42.bias, 'lr': 0.001},\n",
        "            {'params': Model_NPV.B42.weight, 'lr': 0.001},\n",
        "            {'params': Model_NPV.B42.bias, 'lr': 0.001},\n",
        "            {'params': Model_NPV.C43.weight,'lr': 0.001},\n",
        "            {'params': Model_NPV.C43.bias, 'lr': 0.001},\n",
        "            {'params': Model_NPV.B43.weight, 'lr': 0.001},\n",
        "            {'params': Model_NPV.B43.bias, 'lr': 0.001},\n",
        "            {'params': Model_NPV.C51.weight,'lr': 0.001},\n",
        "            {'params': Model_NPV.C51.bias, 'lr': 0.001},\n",
        "            {'params': Model_NPV.B51.weight, 'lr': 0.001},\n",
        "            {'params': Model_NPV.B51.bias, 'lr': 0.001},\n",
        "            {'params': Model_NPV.C52.weight,'lr': 0.001},\n",
        "            {'params': Model_NPV.C52.bias, 'lr': 0.001},\n",
        "            {'params': Model_NPV.B52.weight, 'lr': 0.001},\n",
        "            {'params': Model_NPV.B52.bias, 'lr': 0.001},\n",
        "            {'params': Model_NPV.C53.weight,'lr': 0.001},\n",
        "            {'params': Model_NPV.C53.bias, 'lr': 0.001},\n",
        "            {'params': Model_NPV.B53.weight, 'lr': 0.001},\n",
        "            {'params': Model_NPV.B53.bias, 'lr': 0.001},\n",
        "\n",
        "        ], lr=0.001,momentum=0.9 )\n",
        "optimizer.append(opt1)\n",
        "\n",
        "\n",
        "\n",
        "\n",
        "opt2=torch.optim.SGD([\n",
        "            {'params': Model_NPV.C11.weight,'lr': 1},\n",
        "            {'params': Model_NPV.C11.bias, 'lr': 1},\n",
        "            {'params': Model_NPV.B11.weight, 'lr': 1},\n",
        "            {'params': Model_NPV.B11.bias, 'lr': 1},\n",
        "            {'params': Model_NPV.C12.weight,'lr': 1},\n",
        "            {'params': Model_NPV.C12.bias, 'lr': 1},\n",
        "            {'params': Model_NPV.B12.weight, 'lr': 1},\n",
        "            {'params': Model_NPV.B12.bias, 'lr': 1},\n",
        "            {'params': Model_NPV.C21.weight,'lr': 1},\n",
        "            {'params': Model_NPV.C21.bias, 'lr': 1},\n",
        "            {'params': Model_NPV.B21.weight, 'lr': 1},\n",
        "            {'params': Model_NPV.B21.bias, 'lr': 1},\n",
        "            {'params': Model_NPV.C22.weight,'lr': 1},\n",
        "            {'params': Model_NPV.C22.bias, 'lr': 1},\n",
        "            {'params': Model_NPV.B22.weight, 'lr': 1},\n",
        "            {'params': Model_NPV.B22.bias, 'lr': 1},\n",
        "            {'params': Model_NPV.C31.weight,'lr': 1},\n",
        "            {'params': Model_NPV.C31.bias, 'lr': 1},\n",
        "            {'params': Model_NPV.B31.weight, 'lr': 1},\n",
        "            {'params': Model_NPV.B31.bias, 'lr': 0.1},\n",
        "            {'params': Model_NPV.C32.weight,'lr': 0.1},\n",
        "            {'params': Model_NPV.C32.bias, 'lr': 0.1},\n",
        "            {'params': Model_NPV.B32.weight, 'lr': 0.1},\n",
        "            {'params': Model_NPV.B32.bias, 'lr': 0.1},\n",
        "            {'params': Model_NPV.C33.weight,'lr': 0.1},\n",
        "            {'params': Model_NPV.C33.bias, 'lr': 0.1},\n",
        "            {'params': Model_NPV.B33.weight, 'lr': 0.1},\n",
        "            {'params': Model_NPV.B33.bias, 'lr': 0.1},\n",
        "            {'params': Model_NPV.C41.weight,'lr': 0.01},\n",
        "            {'params': Model_NPV.C41.bias, 'lr': 0.01},\n",
        "            {'params': Model_NPV.B41.weight, 'lr': 0.01},\n",
        "            {'params': Model_NPV.B41.bias, 'lr': 0.01},\n",
        "            {'params': Model_NPV.C42.weight,'lr': 0.01},\n",
        "            {'params': Model_NPV.C42.bias, 'lr': 0.01},\n",
        "            {'params': Model_NPV.B42.weight, 'lr': 0.01},\n",
        "            {'params': Model_NPV.B42.bias, 'lr': 0.01},\n",
        "            {'params': Model_NPV.C43.weight,'lr': 0.01},\n",
        "            {'params': Model_NPV.C43.bias, 'lr': 0.01},\n",
        "            {'params': Model_NPV.B43.weight, 'lr': 0.01},\n",
        "            {'params': Model_NPV.B43.bias, 'lr': 0.01},\n",
        "            {'params': Model_NPV.C51.weight,'lr': 0.001},\n",
        "            {'params': Model_NPV.C51.bias, 'lr': 0.001},\n",
        "            {'params': Model_NPV.B51.weight, 'lr': 0.001},\n",
        "            {'params': Model_NPV.B51.bias, 'lr': 0.001},\n",
        "            {'params': Model_NPV.C52.weight,'lr': 0.001},\n",
        "            {'params': Model_NPV.C52.bias, 'lr': 0.001},\n",
        "            {'params': Model_NPV.B52.weight, 'lr': 0.001},\n",
        "            {'params': Model_NPV.B52.bias, 'lr': 0.001},\n",
        "            {'params': Model_NPV.C53.weight,'lr': 0.001},\n",
        "            {'params': Model_NPV.C53.bias, 'lr': 0.001},\n",
        "            {'params': Model_NPV.B53.weight, 'lr': 0.001},\n",
        "            {'params': Model_NPV.B53.bias, 'lr': 0.001},\n",
        "\n",
        "        ], lr=0.001,momentum=0.9 )\n",
        "optimizer.append(opt2)\n",
        "\n",
        "\n",
        "opt3=opt2=torch.optim.SGD([\n",
        "            {'params': Model_NPV.C11.weight,'lr': 1},\n",
        "            {'params': Model_NPV.C11.bias, 'lr': 1},\n",
        "            {'params': Model_NPV.B11.weight, 'lr': 1},\n",
        "            {'params': Model_NPV.B11.bias, 'lr': 1},\n",
        "            {'params': Model_NPV.C12.weight,'lr': 1},\n",
        "            {'params': Model_NPV.C12.bias, 'lr': 1},\n",
        "            {'params': Model_NPV.B12.weight, 'lr': 1},\n",
        "            {'params': Model_NPV.B12.bias, 'lr': 1},\n",
        "            {'params': Model_NPV.C21.weight,'lr': 1},\n",
        "            {'params': Model_NPV.C21.bias, 'lr': 1},\n",
        "            {'params': Model_NPV.B21.weight, 'lr': 1},\n",
        "            {'params': Model_NPV.B21.bias, 'lr': 1},\n",
        "            {'params': Model_NPV.C22.weight,'lr': 1},\n",
        "            {'params': Model_NPV.C22.bias, 'lr': 1},\n",
        "            {'params': Model_NPV.B22.weight, 'lr': 1},\n",
        "            {'params': Model_NPV.B22.bias, 'lr': 1},\n",
        "            {'params': Model_NPV.C31.weight,'lr': 1},\n",
        "            {'params': Model_NPV.C31.bias, 'lr': 1},\n",
        "            {'params': Model_NPV.B31.weight, 'lr': 1},\n",
        "            {'params': Model_NPV.B31.bias, 'lr': 1},\n",
        "            {'params': Model_NPV.C32.weight,'lr': 1},\n",
        "            {'params': Model_NPV.C32.bias, 'lr': 0.1},\n",
        "            {'params': Model_NPV.B32.weight, 'lr': 0.1},\n",
        "            {'params': Model_NPV.B32.bias, 'lr': 0.1},\n",
        "            {'params': Model_NPV.C33.weight,'lr': 0.1},\n",
        "            {'params': Model_NPV.C33.bias, 'lr': 0.1},\n",
        "            {'params': Model_NPV.B33.weight, 'lr': 0.1},\n",
        "            {'params': Model_NPV.B33.bias, 'lr': 0.1},\n",
        "            {'params': Model_NPV.C41.weight,'lr': 0.01},\n",
        "            {'params': Model_NPV.C41.bias, 'lr': 0.01},\n",
        "            {'params': Model_NPV.B41.weight, 'lr': 0.01},\n",
        "            {'params': Model_NPV.B41.bias, 'lr': 0.01},\n",
        "            {'params': Model_NPV.C42.weight,'lr': 0.01},\n",
        "            {'params': Model_NPV.C42.bias, 'lr': 0.01},\n",
        "            {'params': Model_NPV.B42.weight, 'lr': 0.01},\n",
        "            {'params': Model_NPV.B42.bias, 'lr': 0.01},\n",
        "            {'params': Model_NPV.C43.weight,'lr': 0.01},\n",
        "            {'params': Model_NPV.C43.bias, 'lr': 0.01},\n",
        "            {'params': Model_NPV.B43.weight, 'lr': 0.01},\n",
        "            {'params': Model_NPV.B43.bias, 'lr': 0.01},\n",
        "            {'params': Model_NPV.C51.weight,'lr': 0.001},\n",
        "            {'params': Model_NPV.C51.bias, 'lr': 0.001},\n",
        "            {'params': Model_NPV.B51.weight, 'lr': 0.001},\n",
        "            {'params': Model_NPV.B51.bias, 'lr': 0.001},\n",
        "            {'params': Model_NPV.C52.weight,'lr': 0.001},\n",
        "            {'params': Model_NPV.C52.bias, 'lr': 0.001},\n",
        "            {'params': Model_NPV.B52.weight, 'lr': 0.001},\n",
        "            {'params': Model_NPV.B52.bias, 'lr': 0.001},\n",
        "            {'params': Model_NPV.C53.weight,'lr': 0.001},\n",
        "            {'params': Model_NPV.C53.bias, 'lr': 0.001},\n",
        "            {'params': Model_NPV.B53.weight, 'lr': 0.001},\n",
        "            {'params': Model_NPV.B53.bias, 'lr': 0.001},\n",
        "\n",
        "        ], lr=0.001,momentum=0.9 )\n",
        "optimizer.append(opt3)\n",
        "\n",
        "\n",
        "opt4=torch.optim.SGD([\n",
        "            {'params': Model_NPV.C11.weight,'lr': 0.99},\n",
        "            {'params': Model_NPV.C11.bias, 'lr': 0.99},\n",
        "            {'params': Model_NPV.B11.weight, 'lr': 0.99},\n",
        "            {'params': Model_NPV.B11.bias, 'lr': 0.99},\n",
        "            {'params': Model_NPV.C12.weight,'lr': 0.99},\n",
        "            {'params': Model_NPV.C12.bias, 'lr': 0.99},\n",
        "            {'params': Model_NPV.B12.weight, 'lr': 0.99},\n",
        "            {'params': Model_NPV.B12.bias, 'lr': 0.99},\n",
        "            {'params': Model_NPV.C21.weight,'lr': 0.9},\n",
        "            {'params': Model_NPV.C21.bias, 'lr': 0.9},\n",
        "            {'params': Model_NPV.B21.weight, 'lr': 0.9},\n",
        "            {'params': Model_NPV.B21.bias, 'lr': 0.9},\n",
        "            {'params': Model_NPV.C22.weight,'lr': 0.9},\n",
        "            {'params': Model_NPV.C22.bias, 'lr': 0.9},\n",
        "            {'params': Model_NPV.B22.weight, 'lr': 0.9},\n",
        "            {'params': Model_NPV.B22.bias, 'lr': 0.9},\n",
        "            {'params': Model_NPV.C31.weight,'lr': 0.5},\n",
        "            {'params': Model_NPV.C31.bias, 'lr': 0.5},\n",
        "            {'params': Model_NPV.B31.weight, 'lr': 0.5},\n",
        "            {'params': Model_NPV.B31.bias, 'lr': 0.5},\n",
        "            {'params': Model_NPV.C32.weight,'lr': 0.5},\n",
        "            {'params': Model_NPV.C32.bias, 'lr': 0.5},\n",
        "            {'params': Model_NPV.B32.weight, 'lr': 0.5},\n",
        "            {'params': Model_NPV.B32.bias, 'lr': 0.5},\n",
        "            {'params': Model_NPV.C33.weight,'lr': 0.5},\n",
        "            {'params': Model_NPV.C33.bias, 'lr': 0.5},\n",
        "            {'params': Model_NPV.B33.weight, 'lr': 0.5},\n",
        "            {'params': Model_NPV.B33.bias, 'lr': 0.5},\n",
        "            {'params': Model_NPV.C41.weight,'lr': 0.05},\n",
        "            {'params': Model_NPV.C41.bias, 'lr': 0.05},\n",
        "            {'params': Model_NPV.B41.weight, 'lr': 0.05},\n",
        "            {'params': Model_NPV.B41.bias, 'lr': 0.05},\n",
        "            {'params': Model_NPV.C42.weight,'lr': 0.05},\n",
        "            {'params': Model_NPV.C42.bias, 'lr': 0.05},\n",
        "            {'params': Model_NPV.B42.weight, 'lr': 0.05},\n",
        "            {'params': Model_NPV.B42.bias, 'lr': 0.05},\n",
        "            {'params': Model_NPV.C43.weight,'lr': 0.05},\n",
        "            {'params': Model_NPV.C43.bias, 'lr': 0.05},\n",
        "            {'params': Model_NPV.B43.weight, 'lr': 0.05},\n",
        "            {'params': Model_NPV.B43.bias, 'lr': 0.05},\n",
        "            {'params': Model_NPV.C51.weight,'lr': 0.001},\n",
        "            {'params': Model_NPV.C51.bias, 'lr': 0.001},\n",
        "            {'params': Model_NPV.B51.weight, 'lr': 0.001},\n",
        "            {'params': Model_NPV.B51.bias, 'lr': 0.001},\n",
        "            {'params': Model_NPV.C52.weight,'lr': 0.001},\n",
        "            {'params': Model_NPV.C52.bias, 'lr': 0.001},\n",
        "            {'params': Model_NPV.B52.weight, 'lr': 0.001},\n",
        "            {'params': Model_NPV.B52.bias, 'lr': 0.001},\n",
        "            {'params': Model_NPV.C53.weight,'lr': 0.001},\n",
        "            {'params': Model_NPV.C53.bias, 'lr': 0.001},\n",
        "            {'params': Model_NPV.B53.weight, 'lr': 0.001},\n",
        "            {'params': Model_NPV.B53.bias, 'lr': 0.001},\n",
        "\n",
        "        ], lr=0.001,momentum=0.9 )\n",
        "\n",
        "optimizer.append(opt4)\n",
        "\n",
        "for i in range (5):\n",
        "  print(\"Training for task \",i)\n",
        "  fit(5,0.001,Model_NPF,Model_NPV,Tasks_Train[i],optimizer[i])\n"
      ],
      "metadata": {
        "colab": {
          "base_uri": "https://localhost:8080/"
        },
        "id": "UYCQrrOBJ8qd",
        "outputId": "9d4bb1e5-3451-4939-aadb-94bdb1b85572"
      },
      "execution_count": null,
      "outputs": [
        {
          "output_type": "stream",
          "name": "stdout",
          "text": [
            "Training for task  0\n",
            "Epoch [1/5], Loss: 0.0808\n",
            "Epoch [2/5], Loss: 0.0205\n",
            "Epoch [3/5], Loss: 0.0070\n",
            "Epoch [4/5], Loss: 0.0019\n",
            "Epoch [5/5], Loss: 0.0009\n",
            "Training for task  1\n",
            "Epoch [1/5], Loss: 0.1596\n",
            "Epoch [2/5], Loss: 0.0423\n",
            "Epoch [3/5], Loss: 0.0112\n",
            "Epoch [4/5], Loss: 0.0048\n",
            "Epoch [5/5], Loss: 0.0041\n",
            "Training for task  2\n",
            "Epoch [1/5], Loss: 0.1555\n",
            "Epoch [2/5], Loss: 0.0363\n",
            "Epoch [3/5], Loss: 0.0033\n",
            "Epoch [4/5], Loss: 0.0031\n",
            "Epoch [5/5], Loss: 0.0024\n",
            "Training for task  3\n",
            "Epoch [1/5], Loss: 0.1806\n",
            "Epoch [2/5], Loss: 0.0655\n",
            "Epoch [3/5], Loss: 0.0156\n",
            "Epoch [4/5], Loss: 0.0048\n",
            "Epoch [5/5], Loss: 0.0044\n",
            "Training for task  4\n",
            "Epoch [1/5], Loss: 0.0957\n",
            "Epoch [2/5], Loss: 0.0985\n",
            "Epoch [3/5], Loss: 0.0185\n",
            "Epoch [4/5], Loss: 0.0172\n",
            "Epoch [5/5], Loss: 0.0047\n"
          ]
        }
      ]
    },
    {
      "cell_type": "code",
      "source": [
        "#Testing the model\n",
        "def Test(test_loader):\n",
        "  n_correct = 0\n",
        "  n_samples = 0\n",
        "  for images, labels in test_loader:\n",
        "    if train_on_gpu:\n",
        "      images, labels = images.cuda(), labels.cuda()\n",
        "      All_ones=torch.ones(images.shape).cuda()\n",
        "    Model_NPF.forward(images)\n",
        "    output=Model_NPV.forward(images,Model_NPF.Return_NPF_Gates())\n",
        "    # max returns (value ,index)\n",
        "    _, predicted = torch.max(output.data, 1)\n",
        "    n_samples += labels.size(0)\n",
        "    n_correct += (predicted == labels).sum().item()\n",
        "  acc = 100.0 * n_correct / n_samples\n",
        "  print(f'Accuracy of the network on the 10000 test images: {acc} %')"
      ],
      "metadata": {
        "id": "g2JrFSF_zW9I"
      },
      "execution_count": null,
      "outputs": []
    },
    {
      "cell_type": "code",
      "source": [
        "\n",
        "\n",
        "\n",
        "optimizer =[]\n",
        "\n",
        "opt0 = torch.optim.SGD(Model_NPV.parameters(),0.001,momentum=0.9)\n",
        "# optimizer.append(opt0)\n",
        "for i in range (3):\n",
        "  print(\"Training for task \",i)\n",
        "  fit(32,0.001,Model_NPF,Model_NPV,Tasks_Train[i],opt0)\n",
        "  if i==0:\n",
        "    Model_NPV.C11.weight.requires_grad =False\n",
        "    Model_NPV.C11.bias.requires_grad=False\n",
        "    Model_NPV.B11.weight.requires_grad=False\n",
        "    Model_NPV.B11.bias.requires_grad=False\n",
        "    Model_NPV.C12.weight.requires_grad=False\n",
        "    Model_NPV.C12.bias.requires_grad=False\n",
        "    Model_NPV.B12.weight.requires_grad=False\n",
        "    Model_NPV.B12.bias.requires_grad=False\n",
        "    Model_NPV.C21.weight.requires_grad =False\n",
        "    Model_NPV.C21.bias.requires_grad=False\n",
        "    Model_NPV.B21.weight.requires_grad=False\n",
        "    Model_NPV.B21.bias.requires_grad=False\n",
        "    Model_NPV.C22.weight.requires_grad=False\n",
        "    Model_NPV.C22.bias.requires_grad=False\n",
        "    Model_NPV.B22.weight.requires_grad=False\n",
        "    Model_NPV.B22.bias.requires_grad=False\n",
        "    # opt0 = torch.optim.SGD(Model_NPV.parameters(),0.002,momentum=0.9)\n",
        "  if i==1:\n",
        "\n",
        "    Model_NPV.C31.weight.requires_grad=False\n",
        "    Model_NPV.C31.bias.requires_grad=False\n",
        "    Model_NPV.B31.weight.requires_grad=False\n",
        "    Model_NPV.B31.bias.requires_grad=False\n",
        "    Model_NPV.C32.weight.requires_grad=False\n",
        "    Model_NPV.C32.bias.requires_grad=False\n",
        "    Model_NPV.B32.weight.requires_grad=False\n",
        "    Model_NPV.B32.bias.requires_grad=False\n",
        "    Model_NPV.C41.weight.requires_grad=False\n",
        "    Model_NPV.C41.bias.requires_grad=False\n",
        "    Model_NPV.B41.weight.requires_grad=False\n",
        "    Model_NPV.B41.bias.requires_grad=False\n",
        "    Model_NPV.C42.weight.requires_grad=False\n",
        "    Model_NPV.C42.bias.requires_grad=False\n",
        "    Model_NPV.B42.weight.requires_grad=False\n",
        "    Model_NPV.B42.bias.requires_grad=False\n",
        "    Model_NPV.C43.weight.requires_grad=False\n",
        "    Model_NPV.C43.bias.requires_grad=False\n",
        "    Model_NPV.B43.weight.requires_grad=False\n",
        "    Model_NPV.B43.bias.requires_grad=False\n",
        "    Model_NPV.C43.weight.requires_grad=False\n",
        "    Model_NPV.C43.bias.requires_grad=False\n",
        "    Model_NPV.B43.weight.requires_grad=False\n",
        "    Model_NPV.B43.bias.requires_grad=False\n",
        "    # opt0 = torch.optim.SGD(Model_NPV.parameters(),0.003,momentum=0.9)\n",
        "\n",
        "\n",
        "\n",
        "  for j in range(i+1):\n",
        "    Test(Tasks_Test[j])\n",
        "\n",
        "\n"
      ],
      "metadata": {
        "colab": {
          "base_uri": "https://localhost:8080/"
        },
        "id": "74XLphVZvn0N",
        "outputId": "713ea6eb-f7ed-453d-e427-0db2256ad727"
      },
      "execution_count": null,
      "outputs": [
        {
          "output_type": "stream",
          "name": "stdout",
          "text": [
            "Training for task  0\n",
            "Epoch [1/32], Loss: 0.0443\n",
            "Epoch [2/32], Loss: 0.0590\n",
            "Epoch [3/32], Loss: 0.0030\n",
            "Epoch [4/32], Loss: 0.0020\n",
            "Epoch [5/32], Loss: 0.0014\n",
            "Epoch [6/32], Loss: 0.0013\n",
            "Epoch [7/32], Loss: 0.0009\n",
            "Epoch [8/32], Loss: 0.0004\n",
            "Epoch [9/32], Loss: 0.0003\n",
            "Epoch [10/32], Loss: 0.0009\n",
            "Epoch [11/32], Loss: 0.0002\n",
            "Epoch [12/32], Loss: 0.0004\n",
            "Epoch [13/32], Loss: 0.0002\n",
            "Epoch [14/32], Loss: 0.0002\n",
            "Epoch [15/32], Loss: 0.0002\n",
            "Epoch [16/32], Loss: 0.0004\n",
            "Epoch [17/32], Loss: 0.0004\n",
            "Epoch [18/32], Loss: 0.0002\n",
            "Epoch [19/32], Loss: 0.0002\n",
            "Epoch [20/32], Loss: 0.0001\n",
            "Epoch [21/32], Loss: 0.0003\n",
            "Epoch [22/32], Loss: 0.0002\n",
            "Epoch [23/32], Loss: 0.0002\n",
            "Epoch [24/32], Loss: 0.0001\n",
            "Epoch [25/32], Loss: 0.0001\n",
            "Epoch [26/32], Loss: 0.0001\n",
            "Epoch [27/32], Loss: 0.0000\n",
            "Epoch [28/32], Loss: 0.0001\n",
            "Epoch [29/32], Loss: 0.0001\n",
            "Epoch [30/32], Loss: 0.0000\n",
            "Epoch [31/32], Loss: 0.0001\n",
            "Epoch [32/32], Loss: 0.0001\n",
            "Accuracy of the network on the 10000 test images: 87.04 %\n",
            "Training for task  1\n",
            "Epoch [1/32], Loss: 0.1622\n",
            "Epoch [2/32], Loss: 0.0227\n",
            "Epoch [3/32], Loss: 0.0027\n",
            "Epoch [4/32], Loss: 0.0023\n",
            "Epoch [5/32], Loss: 0.0010\n",
            "Epoch [6/32], Loss: 0.0015\n",
            "Epoch [7/32], Loss: 0.0013\n",
            "Epoch [8/32], Loss: 0.0005\n",
            "Epoch [9/32], Loss: 0.0009\n",
            "Epoch [10/32], Loss: 0.0006\n",
            "Epoch [11/32], Loss: 0.0004\n",
            "Epoch [12/32], Loss: 0.0003\n",
            "Epoch [13/32], Loss: 0.0006\n",
            "Epoch [14/32], Loss: 0.0001\n",
            "Epoch [15/32], Loss: 0.0003\n",
            "Epoch [16/32], Loss: 0.0003\n",
            "Epoch [17/32], Loss: 0.0003\n"
          ]
        }
      ]
    },
    {
      "cell_type": "code",
      "source": [
        "for i in range(3):\n",
        "  print(\"Task \",i)\n",
        "  print(optimizer[i])\n",
        "  # for param_group in optimizer[i].param_groups:\n",
        "    # print(param_group)"
      ],
      "metadata": {
        "colab": {
          "base_uri": "https://localhost:8080/",
          "height": 257
        },
        "id": "5cLeSmdIwZqa",
        "outputId": "0660d06e-94e8-4a6d-e399-1e20de5781ff"
      },
      "execution_count": null,
      "outputs": [
        {
          "output_type": "stream",
          "name": "stdout",
          "text": [
            "Task  0\n"
          ]
        },
        {
          "output_type": "error",
          "ename": "AttributeError",
          "evalue": "ignored",
          "traceback": [
            "\u001b[0;31m---------------------------------------------------------------------------\u001b[0m",
            "\u001b[0;31mAttributeError\u001b[0m                            Traceback (most recent call last)",
            "\u001b[0;32m<ipython-input-30-7384c2cf9eec>\u001b[0m in \u001b[0;36m<cell line: 1>\u001b[0;34m()\u001b[0m\n\u001b[1;32m      1\u001b[0m \u001b[0;32mfor\u001b[0m \u001b[0mi\u001b[0m \u001b[0;32min\u001b[0m \u001b[0mrange\u001b[0m\u001b[0;34m(\u001b[0m\u001b[0;36m5\u001b[0m\u001b[0;34m)\u001b[0m\u001b[0;34m:\u001b[0m\u001b[0;34m\u001b[0m\u001b[0;34m\u001b[0m\u001b[0m\n\u001b[1;32m      2\u001b[0m   \u001b[0mprint\u001b[0m\u001b[0;34m(\u001b[0m\u001b[0;34m\"Task \"\u001b[0m\u001b[0;34m,\u001b[0m\u001b[0mi\u001b[0m\u001b[0;34m)\u001b[0m\u001b[0;34m\u001b[0m\u001b[0;34m\u001b[0m\u001b[0m\n\u001b[0;32m----> 3\u001b[0;31m   \u001b[0mprint\u001b[0m\u001b[0;34m(\u001b[0m\u001b[0moptimizer\u001b[0m\u001b[0;34m[\u001b[0m\u001b[0mi\u001b[0m\u001b[0;34m]\u001b[0m\u001b[0;34m.\u001b[0m\u001b[0mparameters\u001b[0m\u001b[0;34m(\u001b[0m\u001b[0;34m)\u001b[0m\u001b[0;34m)\u001b[0m\u001b[0;34m\u001b[0m\u001b[0;34m\u001b[0m\u001b[0m\n\u001b[0m\u001b[1;32m      4\u001b[0m   \u001b[0;31m# for param_group in optimizer[i].param_groups:\u001b[0m\u001b[0;34m\u001b[0m\u001b[0;34m\u001b[0m\u001b[0m\n\u001b[1;32m      5\u001b[0m     \u001b[0;31m# print(param_group)\u001b[0m\u001b[0;34m\u001b[0m\u001b[0;34m\u001b[0m\u001b[0m\n",
            "\u001b[0;31mAttributeError\u001b[0m: 'SGD' object has no attribute 'parameters'"
          ]
        }
      ]
    },
    {
      "cell_type": "code",
      "source": [
        "print(Model_NPV.C11)"
      ],
      "metadata": {
        "colab": {
          "base_uri": "https://localhost:8080/"
        },
        "id": "TJM1J6cmzkxV",
        "outputId": "4029e237-d56d-4a2b-f8f3-610a31b814f3"
      },
      "execution_count": null,
      "outputs": [
        {
          "output_type": "stream",
          "name": "stdout",
          "text": [
            "Conv2d(1, 64, kernel_size=(3, 3), stride=(1, 1), padding=(1, 1))\n"
          ]
        }
      ]
    },
    {
      "cell_type": "code",
      "source": [
        "#Testing the model\n",
        "def Test(test_loader):\n",
        "  n_correct = 0\n",
        "  n_samples = 0\n",
        "  for images, labels in test_loader:\n",
        "    if train_on_gpu:\n",
        "      images, labels = images.cuda(), labels.cuda()\n",
        "      All_ones=torch.ones(images.shape).cuda()\n",
        "    Model_NPF.forward(images)\n",
        "    output=Model_NPV.forward(images,Model_NPF.Return_NPF_Gates())\n",
        "    # max returns (value ,index)\n",
        "    _, predicted = torch.max(output.data, 1)\n",
        "    n_samples += labels.size(0)\n",
        "    n_correct += (predicted == labels).sum().item()\n",
        "  acc = 100.0 * n_correct / n_samples\n",
        "  print(f'Accuracy of the network on the 10000 test images: {acc} %')"
      ],
      "metadata": {
        "id": "dRxON_mvJ-SQ"
      },
      "execution_count": null,
      "outputs": []
    },
    {
      "cell_type": "code",
      "source": [
        "for i in range (3):\n",
        "  print(\"Accuracy For Task \",i)\n",
        "  Test(Tasks_Test[i])"
      ],
      "metadata": {
        "colab": {
          "base_uri": "https://localhost:8080/"
        },
        "id": "cin_oNC6f2OO",
        "outputId": "b1aaa709-9c42-48dd-f850-45dcd14f99fe"
      },
      "execution_count": null,
      "outputs": [
        {
          "output_type": "stream",
          "name": "stdout",
          "text": [
            "Accuracy For Task  0\n",
            "Accuracy of the network on the 10000 test images: 59.93 %\n",
            "Accuracy For Task  1\n",
            "Accuracy of the network on the 10000 test images: 69.1 %\n",
            "Accuracy For Task  2\n",
            "Accuracy of the network on the 10000 test images: 83.38 %\n"
          ]
        }
      ]
    }
  ]
}